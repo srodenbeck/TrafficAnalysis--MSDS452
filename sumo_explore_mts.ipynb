{
 "cells": [
  {
   "cell_type": "markdown",
   "metadata": {},
   "source": [
    "## SUMO Exploration"
   ]
  },
  {
   "cell_type": "code",
   "execution_count": 1,
   "metadata": {},
   "outputs": [
    {
     "name": "stdout",
     "output_type": "stream",
     "text": [
      "Collecting sumo\n",
      "  Downloading sumo-2.3.5-py3-none-any.whl (124 kB)\n",
      "\u001b[2K     \u001b[90m━━━━━━━━━━━━━━━━━━━━━━━━━━━━━━━━━━━━━━━\u001b[0m \u001b[32m124.4/124.4 kB\u001b[0m \u001b[31m2.4 MB/s\u001b[0m eta \u001b[36m0:00:00\u001b[0m00:01\u001b[0m\n",
      "\u001b[?25hCollecting seekpath\n",
      "  Downloading seekpath-2.0.1-py2.py3-none-any.whl (76 kB)\n",
      "\u001b[2K     \u001b[90m━━━━━━━━━━━━━━━━━━━━━━━━━━━━━━━━━━━━━━━━\u001b[0m \u001b[32m76.2/76.2 kB\u001b[0m \u001b[31m2.3 MB/s\u001b[0m eta \u001b[36m0:00:00\u001b[0m\n",
      "\u001b[?25hRequirement already satisfied: numpy in /Users/mikesoukup/opt/anaconda3/envs/networks/lib/python3.10/site-packages (from sumo) (1.23.4)\n",
      "Requirement already satisfied: scipy in /Users/mikesoukup/opt/anaconda3/envs/networks/lib/python3.10/site-packages (from sumo) (1.9.1)\n",
      "Collecting pymatgen>=2020.10.20\n",
      "  Downloading pymatgen-2022.11.7-cp310-cp310-macosx_10_15_x86_64.whl (3.1 MB)\n",
      "\u001b[2K     \u001b[90m━━━━━━━━━━━━━━━━━━━━━━━━━━━━━━━━━━━━━━━━\u001b[0m \u001b[32m3.1/3.1 MB\u001b[0m \u001b[31m4.4 MB/s\u001b[0m eta \u001b[36m0:00:00\u001b[0m00:01\u001b[0m00:01\u001b[0m\n",
      "\u001b[?25hCollecting colormath\n",
      "  Downloading colormath-3.0.0.tar.gz (39 kB)\n",
      "  Preparing metadata (setup.py) ... \u001b[?25ldone\n",
      "\u001b[?25hCollecting spglib\n",
      "  Downloading spglib-2.0.2-cp310-cp310-macosx_10_9_x86_64.whl (274 kB)\n",
      "\u001b[2K     \u001b[90m━━━━━━━━━━━━━━━━━━━━━━━━━━━━━━━━━━━━━━━\u001b[0m \u001b[32m274.9/274.9 kB\u001b[0m \u001b[31m3.3 MB/s\u001b[0m eta \u001b[36m0:00:00\u001b[0ma \u001b[36m0:00:01\u001b[0m\n",
      "\u001b[?25hRequirement already satisfied: matplotlib in /Users/mikesoukup/opt/anaconda3/envs/networks/lib/python3.10/site-packages (from sumo) (3.5.3)\n",
      "Collecting phonopy>=2.1.3\n",
      "  Downloading phonopy-2.16.3.tar.gz (3.7 MB)\n",
      "\u001b[2K     \u001b[90m━━━━━━━━━━━━━━━━━━━━━━━━━━━━━━━━━━━━━━━━\u001b[0m \u001b[32m3.7/3.7 MB\u001b[0m \u001b[31m4.2 MB/s\u001b[0m eta \u001b[36m0:00:00\u001b[0m00:01\u001b[0m00:01\u001b[0m\n",
      "\u001b[?25h  Installing build dependencies ... \u001b[?25ldone\n",
      "\u001b[?25h  Getting requirements to build wheel ... \u001b[?25ldone\n",
      "\u001b[?25h  Preparing metadata (pyproject.toml) ... \u001b[?25ldone\n",
      "\u001b[?25hCollecting h5py\n",
      "  Downloading h5py-3.7.0-cp310-cp310-macosx_10_9_x86_64.whl (3.2 MB)\n",
      "\u001b[2K     \u001b[90m━━━━━━━━━━━━━━━━━━━━━━━━━━━━━━━━━━━━━━━━\u001b[0m \u001b[32m3.2/3.2 MB\u001b[0m \u001b[31m4.3 MB/s\u001b[0m eta \u001b[36m0:00:00\u001b[0m00:01\u001b[0m00:01\u001b[0m\n",
      "\u001b[?25hCollecting castepxbin<1.0\n",
      "  Downloading castepxbin-0.2.0-py3-none-any.whl (19 kB)\n",
      "Requirement already satisfied: PyYAML in /Users/mikesoukup/opt/anaconda3/envs/networks/lib/python3.10/site-packages/PyYAML-6.0-py3.10-macosx-10.9-x86_64.egg (from phonopy>=2.1.3->sumo) (6.0)\n",
      "Requirement already satisfied: kiwisolver>=1.0.1 in /Users/mikesoukup/opt/anaconda3/envs/networks/lib/python3.10/site-packages (from matplotlib->sumo) (1.4.2)\n",
      "Requirement already satisfied: pyparsing>=2.2.1 in /Users/mikesoukup/opt/anaconda3/envs/networks/lib/python3.10/site-packages (from matplotlib->sumo) (3.0.9)\n",
      "Requirement already satisfied: fonttools>=4.22.0 in /Users/mikesoukup/opt/anaconda3/envs/networks/lib/python3.10/site-packages (from matplotlib->sumo) (4.25.0)\n",
      "Requirement already satisfied: python-dateutil>=2.7 in /Users/mikesoukup/opt/anaconda3/envs/networks/lib/python3.10/site-packages (from matplotlib->sumo) (2.8.2)\n",
      "Requirement already satisfied: pillow>=6.2.0 in /Users/mikesoukup/opt/anaconda3/envs/networks/lib/python3.10/site-packages (from matplotlib->sumo) (9.2.0)\n",
      "Requirement already satisfied: cycler>=0.10 in /Users/mikesoukup/opt/anaconda3/envs/networks/lib/python3.10/site-packages (from matplotlib->sumo) (0.11.0)\n",
      "Requirement already satisfied: packaging>=20.0 in /Users/mikesoukup/opt/anaconda3/envs/networks/lib/python3.10/site-packages (from matplotlib->sumo) (21.3)\n",
      "Requirement already satisfied: tqdm in /Users/mikesoukup/opt/anaconda3/envs/networks/lib/python3.10/site-packages (from pymatgen>=2020.10.20->sumo) (4.64.1)\n",
      "Collecting ruamel.yaml>=0.17.0\n",
      "  Downloading ruamel.yaml-0.17.21-py3-none-any.whl (109 kB)\n",
      "\u001b[2K     \u001b[90m━━━━━━━━━━━━━━━━━━━━━━━━━━━━━━━━━━━━━━━\u001b[0m \u001b[32m109.5/109.5 kB\u001b[0m \u001b[31m2.2 MB/s\u001b[0m eta \u001b[36m0:00:00\u001b[0ma \u001b[36m0:00:01\u001b[0m\n",
      "\u001b[?25hCollecting mp-api>=0.27.3\n",
      "  Downloading mp_api-0.29.7-py3-none-any.whl (70 kB)\n",
      "\u001b[2K     \u001b[90m━━━━━━━━━━━━━━━━━━━━━━━━━━━━━━━━━━━━━━━━\u001b[0m \u001b[32m70.6/70.6 kB\u001b[0m \u001b[31m2.0 MB/s\u001b[0m eta \u001b[36m0:00:00\u001b[0m\n",
      "\u001b[?25hRequirement already satisfied: networkx>=2.2 in /Users/mikesoukup/opt/anaconda3/envs/networks/lib/python3.10/site-packages (from pymatgen>=2020.10.20->sumo) (2.7.1)\n",
      "Requirement already satisfied: pandas in /Users/mikesoukup/opt/anaconda3/envs/networks/lib/python3.10/site-packages (from pymatgen>=2020.10.20->sumo) (1.4.4)\n",
      "Collecting tabulate\n",
      "  Downloading tabulate-0.9.0-py3-none-any.whl (35 kB)\n",
      "Collecting palettable>=3.1.1\n",
      "  Downloading palettable-3.3.0-py2.py3-none-any.whl (111 kB)\n",
      "\u001b[2K     \u001b[90m━━━━━━━━━━━━━━━━━━━━━━━━━━━━━━━━━━━━━━━\u001b[0m \u001b[32m111.8/111.8 kB\u001b[0m \u001b[31m3.2 MB/s\u001b[0m eta \u001b[36m0:00:00\u001b[0m\n",
      "\u001b[?25hRequirement already satisfied: plotly>=4.5.0 in /Users/mikesoukup/opt/anaconda3/envs/networks/lib/python3.10/site-packages (from pymatgen>=2020.10.20->sumo) (5.11.0)\n",
      "Collecting uncertainties>=3.1.4\n",
      "  Downloading uncertainties-3.1.7-py2.py3-none-any.whl (98 kB)\n",
      "\u001b[2K     \u001b[90m━━━━━━━━━━━━━━━━━━━━━━━━━━━━━━━━━━━━━━━━\u001b[0m \u001b[32m98.4/98.4 kB\u001b[0m \u001b[31m4.0 MB/s\u001b[0m eta \u001b[36m0:00:00\u001b[0mta \u001b[36m0:00:01\u001b[0m\n",
      "\u001b[?25hCollecting monty>=3.0.2\n",
      "  Downloading monty-2022.9.9-py3-none-any.whl (66 kB)\n",
      "\u001b[2K     \u001b[90m━━━━━━━━━━━━━━━━━━━━━━━━━━━━━━━━━━━━━━━━\u001b[0m \u001b[32m66.9/66.9 kB\u001b[0m \u001b[31m2.2 MB/s\u001b[0m eta \u001b[36m0:00:00\u001b[0m\n",
      "\u001b[?25hCollecting sympy\n",
      "  Downloading sympy-1.11.1-py3-none-any.whl (6.5 MB)\n",
      "\u001b[2K     \u001b[90m━━━━━━━━━━━━━━━━━━━━━━━━━━━━━━━━━━━━━━━━\u001b[0m \u001b[32m6.5/6.5 MB\u001b[0m \u001b[31m4.2 MB/s\u001b[0m eta \u001b[36m0:00:00\u001b[0m00:01\u001b[0m00:01\u001b[0m\n",
      "\u001b[?25hRequirement already satisfied: requests in /Users/mikesoukup/opt/anaconda3/envs/networks/lib/python3.10/site-packages (from pymatgen>=2020.10.20->sumo) (2.28.1)\n",
      "Collecting pybtex\n",
      "  Downloading pybtex-0.24.0-py2.py3-none-any.whl (561 kB)\n",
      "\u001b[2K     \u001b[90m━━━━━━━━━━━━━━━━━━━━━━━━━━━━━━━━━━━━━━━\u001b[0m \u001b[32m561.4/561.4 kB\u001b[0m \u001b[31m3.9 MB/s\u001b[0m eta \u001b[36m0:00:00\u001b[0ma \u001b[36m0:00:01\u001b[0m\n",
      "\u001b[?25hRequirement already satisfied: setuptools in /Users/mikesoukup/opt/anaconda3/envs/networks/lib/python3.10/site-packages (from mp-api>=0.27.3->pymatgen>=2020.10.20->sumo) (65.5.0)\n",
      "Requirement already satisfied: msgpack in /Users/mikesoukup/opt/anaconda3/envs/networks/lib/python3.10/site-packages (from mp-api>=0.27.3->pymatgen>=2020.10.20->sumo) (1.0.3)\n",
      "Collecting emmet-core>=0.36.4\n",
      "  Downloading emmet_core-0.38.9-py3-none-any.whl (232 kB)\n",
      "\u001b[2K     \u001b[90m━━━━━━━━━━━━━━━━━━━━━━━━━━━━━━━━━━━━━━━\u001b[0m \u001b[32m232.8/232.8 kB\u001b[0m \u001b[31m4.1 MB/s\u001b[0m eta \u001b[36m0:00:00\u001b[0ma \u001b[36m0:00:01\u001b[0m\n",
      "\u001b[?25hRequirement already satisfied: typing-extensions>=3.7.4.1 in /Users/mikesoukup/opt/anaconda3/envs/networks/lib/python3.10/site-packages (from mp-api>=0.27.3->pymatgen>=2020.10.20->sumo) (4.3.0)\n",
      "Requirement already satisfied: tenacity>=6.2.0 in /Users/mikesoukup/opt/anaconda3/envs/networks/lib/python3.10/site-packages (from plotly>=4.5.0->pymatgen>=2020.10.20->sumo) (8.1.0)\n",
      "Requirement already satisfied: six>=1.5 in /Users/mikesoukup/opt/anaconda3/envs/networks/lib/python3.10/site-packages (from python-dateutil>=2.7->matplotlib->sumo) (1.16.0)\n",
      "Requirement already satisfied: certifi>=2017.4.17 in /Users/mikesoukup/opt/anaconda3/envs/networks/lib/python3.10/site-packages (from requests->pymatgen>=2020.10.20->sumo) (2022.9.24)\n",
      "Requirement already satisfied: idna<4,>=2.5 in /Users/mikesoukup/opt/anaconda3/envs/networks/lib/python3.10/site-packages (from requests->pymatgen>=2020.10.20->sumo) (3.4)\n",
      "Requirement already satisfied: urllib3<1.27,>=1.21.1 in /Users/mikesoukup/opt/anaconda3/envs/networks/lib/python3.10/site-packages (from requests->pymatgen>=2020.10.20->sumo) (1.26.12)\n",
      "Requirement already satisfied: charset-normalizer<3,>=2 in /Users/mikesoukup/opt/anaconda3/envs/networks/lib/python3.10/site-packages (from requests->pymatgen>=2020.10.20->sumo) (2.0.4)\n",
      "Collecting ruamel.yaml.clib>=0.2.6\n",
      "  Downloading ruamel.yaml.clib-0.2.7-cp310-cp310-macosx_10_9_universal2.whl (141 kB)\n",
      "\u001b[2K     \u001b[90m━━━━━━━━━━━━━━━━━━━━━━━━━━━━━━━━━━━━━━━\u001b[0m \u001b[32m141.3/141.3 kB\u001b[0m \u001b[31m3.6 MB/s\u001b[0m eta \u001b[36m0:00:00\u001b[0m\n",
      "\u001b[?25hCollecting future\n",
      "  Downloading future-0.18.2.tar.gz (829 kB)\n",
      "\u001b[2K     \u001b[90m━━━━━━━━━━━━━━━━━━━━━━━━━━━━━━━━━━━━━━━\u001b[0m \u001b[32m829.2/829.2 kB\u001b[0m \u001b[31m6.3 MB/s\u001b[0m eta \u001b[36m0:00:00\u001b[0ma \u001b[36m0:00:01\u001b[0m\n",
      "\u001b[?25h  Preparing metadata (setup.py) ... \u001b[?25ldone\n",
      "\u001b[?25hRequirement already satisfied: pytz>=2020.1 in /Users/mikesoukup/opt/anaconda3/envs/networks/lib/python3.10/site-packages (from pandas->pymatgen>=2020.10.20->sumo) (2022.1)\n",
      "Collecting latexcodec>=1.0.4\n",
      "  Downloading latexcodec-2.0.1-py2.py3-none-any.whl (18 kB)\n",
      "Collecting mpmath>=0.19\n",
      "  Downloading mpmath-1.2.1-py3-none-any.whl (532 kB)\n",
      "\u001b[2K     \u001b[90m━━━━━━━━━━━━━━━━━━━━━━━━━━━━━━━━━━━━━━━\u001b[0m \u001b[32m532.6/532.6 kB\u001b[0m \u001b[31m4.7 MB/s\u001b[0m eta \u001b[36m0:00:00\u001b[0ma \u001b[36m0:00:01\u001b[0m\n",
      "\u001b[?25hCollecting pydantic>=1.10.2\n",
      "  Downloading pydantic-1.10.2-cp310-cp310-macosx_10_9_x86_64.whl (3.1 MB)\n",
      "\u001b[2K     \u001b[90m━━━━━━━━━━━━━━━━━━━━━━━━━━━━━━━━━━━━━━━━\u001b[0m \u001b[32m3.1/3.1 MB\u001b[0m \u001b[31m5.1 MB/s\u001b[0m eta \u001b[36m0:00:00\u001b[0m00:01\u001b[0m00:01\u001b[0m\n",
      "\u001b[?25hBuilding wheels for collected packages: phonopy, colormath, future\n",
      "  Building wheel for phonopy (pyproject.toml) ... \u001b[?25ldone\n",
      "\u001b[?25h  Created wheel for phonopy: filename=phonopy-2.16.3-cp310-cp310-macosx_10_9_x86_64.whl size=413711 sha256=908a8dd6da3f22cccaba89e6efe1b937d0a997d8376022c138528638ee192116\n",
      "  Stored in directory: /Users/mikesoukup/Library/Caches/pip/wheels/61/af/7e/7f603523ba66addb1031ed6a12d96b7d44dd111f3819f5f862\n",
      "  Building wheel for colormath (setup.py) ... \u001b[?25ldone\n",
      "\u001b[?25h  Created wheel for colormath: filename=colormath-3.0.0-py3-none-any.whl size=39410 sha256=bf09532f26cb1895031be4e388f100567a9cb57521fa50a1f14ab1bf21def049\n",
      "  Stored in directory: /Users/mikesoukup/Library/Caches/pip/wheels/ab/b3/4d/c0738759c25a1df01958068f162cf2a9dc3ab1da8b972cfcfc\n",
      "  Building wheel for future (setup.py) ... \u001b[?25ldone\n",
      "\u001b[?25h  Created wheel for future: filename=future-0.18.2-py3-none-any.whl size=491058 sha256=17802ca5f97f3eb08b0f440e62009bda46b9f05892825a1d5d80ce5869132d3b\n",
      "  Stored in directory: /Users/mikesoukup/Library/Caches/pip/wheels/22/73/06/557dc4f4ef68179b9d763930d6eec26b88ed7c389b19588a1c\n",
      "Successfully built phonopy colormath future\n",
      "Installing collected packages: palettable, mpmath, tabulate, sympy, spglib, ruamel.yaml.clib, pydantic, monty, latexcodec, h5py, future, colormath, uncertainties, seekpath, ruamel.yaml, pybtex, castepxbin, phonopy, emmet-core, mp-api, pymatgen, sumo\n",
      "Successfully installed castepxbin-0.2.0 colormath-3.0.0 emmet-core-0.38.9 future-0.18.2 h5py-3.7.0 latexcodec-2.0.1 monty-2022.9.9 mp-api-0.29.7 mpmath-1.2.1 palettable-3.3.0 phonopy-2.16.3 pybtex-0.24.0 pydantic-1.10.2 pymatgen-2022.11.7 ruamel.yaml-0.17.21 ruamel.yaml.clib-0.2.7 seekpath-2.0.1 spglib-2.0.2 sumo-2.3.5 sympy-1.11.1 tabulate-0.9.0 uncertainties-3.1.7\n"
     ]
    }
   ],
   "source": [
    "!pip install sumo"
   ]
  },
  {
   "cell_type": "code",
   "execution_count": 2,
   "metadata": {},
   "outputs": [
    {
     "name": "stdout",
     "output_type": "stream",
     "text": [
      "zsh:1: command not found: netgenerate\n"
     ]
    }
   ],
   "source": [
    "### Build template grid\n",
    "!netgenerate - grid - grid.numbers=5 -L=3 - grid.length=200 - output-file=temp_grid.net.xml"
   ]
  },
  {
   "cell_type": "code",
   "execution_count": null,
   "metadata": {},
   "outputs": [],
   "source": []
  }
 ],
 "metadata": {
  "interpreter": {
   "hash": "cd593d531f5146369e4932469459ef5fcdeb8d8aa3cd9f8a54306fe747fa2ebc"
  },
  "kernelspec": {
   "display_name": "Python 3.10.6 ('networks')",
   "language": "python",
   "name": "python3"
  },
  "language_info": {
   "codemirror_mode": {
    "name": "ipython",
    "version": 3
   },
   "file_extension": ".py",
   "mimetype": "text/x-python",
   "name": "python",
   "nbconvert_exporter": "python",
   "pygments_lexer": "ipython3",
   "version": "3.10.6"
  },
  "orig_nbformat": 4
 },
 "nbformat": 4,
 "nbformat_minor": 2
}
